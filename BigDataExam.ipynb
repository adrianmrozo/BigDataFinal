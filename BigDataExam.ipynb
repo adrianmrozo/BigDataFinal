{
  "nbformat": 4,
  "nbformat_minor": 0,
  "metadata": {
    "colab": {
      "name": "BigDataExam",
      "provenance": [],
      "toc_visible": true,
      "authorship_tag": "ABX9TyOVP9Qimj7NHt/kioqrm78O",
      "include_colab_link": true
    },
    "kernelspec": {
      "name": "ir",
      "display_name": "R"
    },
    "language_info": {
      "name": "R"
    }
  },
  "cells": [
    {
      "cell_type": "markdown",
      "metadata": {
        "id": "view-in-github",
        "colab_type": "text"
      },
      "source": [
        "<a href=\"https://colab.research.google.com/github/adrianmrozo/BigDataFinal/blob/main/BigDataExam.ipynb\" target=\"_parent\"><img src=\"https://colab.research.google.com/assets/colab-badge.svg\" alt=\"Open In Colab\"/></a>"
      ]
    },
    {
      "cell_type": "markdown",
      "metadata": {
        "id": "JqOlHHqYzYn7"
      },
      "source": [
        "Next the take-home exam. It starts with the RMD specific header. Everything is ready to copy-paste into the RMD file."
      ]
    },
    {
      "cell_type": "markdown",
      "metadata": {
        "id": "XCvy5WDfzhX_"
      },
      "source": [
        "# START OF THE EXAM (.RMD file)"
      ]
    },
    {
      "cell_type": "markdown",
      "metadata": {
        "id": "16q1eZOmzWlt"
      },
      "source": [
        "---\n",
        "title: \"Human Right Reports: Research Report\"\n",
        "subtitle: \"UNILU Big Data Analytics: Group Examination (Take-Home Exercises)\"\n",
        "author:\n",
        "- Author1\n",
        "- Author2\n",
        "- Author3\n",
        "date: \"3 June 2021\"\n",
        "output: html_document\n",
        "---\n",
        "\n",
        "```{r setup, include=FALSE}\n",
        "knitr::opts_chunk$set(echo = TRUE)\n",
        "```"
      ]
    },
    {
      "cell_type": "markdown",
      "metadata": {
        "id": "h2q5-urazSeV"
      },
      "source": [
        "# Group examination: Step-by-step implementation of data pipeline (max. 30 points)"
      ]
    },
    {
      "cell_type": "markdown",
      "metadata": {
        "id": "tR90kYMMzRaK"
      },
      "source": [
        "## Task 1: Data gathering"
      ]
    },
    {
      "cell_type": "markdown",
      "metadata": {
        "id": "-YSrcW2VzQK1"
      },
      "source": [
        "### Solution"
      ]
    },
    {
      "cell_type": "code",
      "metadata": {
        "id": "N9H5SM3_yGr4"
      },
      "source": [
        "# ADD YOUR SOLUTION CODE TO TASK 1 HERE\n",
        "\n",
        "# To not be dependent of the website https://blog.gdeltproject.org/ and also\n",
        "# to not overload or cause a blocking by the website administrator due to \n",
        "# too many downloads from our side, we decided to upload the exact same 7 files \n",
        "# on our Google drive, and download it from there:\n",
        "\n",
        "system(\"gdown --id 1vofAtGrPhZhimjElu2B-lXlMdoLFy-Ab\")\n",
        "system(\"gdown --id 1ryZsl7QTJ6EfApXf6cH_bbkZ-akfdqh5\")\n",
        "system(\"gdown --id 1c02S2Ab0BzFM5xzJxmFCRNWAi0QWoGpM\")\n",
        "system(\"gdown --id 1ek-8su10zKI0-GrRaxlg_ZoNTKxgatB2\")\n",
        "system(\"gdown --id 10Hks6LtS_GmQPlaCBCDw18fI20fO6X6F\")\n",
        "system(\"gdown --id 1WNZ-uH3oCJ11fruNNMsfMppFR8T1_4zD\")\n",
        "system(\"gdown --id 1g_9QR6Od4d_IUcJu_C4Fbs5l3SM4ooq8\")\n",
        "\n",
        "# Alternatively below is the code commented if the 7 data files should be\n",
        "# downloaded directly from the website https://blog.gdeltproject.org/\n"
      ],
      "execution_count": null,
      "outputs": []
    },
    {
      "cell_type": "markdown",
      "metadata": {
        "id": "LqyDbb8gyErM"
      },
      "source": [
        "## Task 2: Virtual memory and the `ff` package."
      ]
    },
    {
      "cell_type": "markdown",
      "metadata": {
        "id": "xjxKbdvZyBlo"
      },
      "source": [
        "### Exposition of the solution\n"
      ]
    },
    {
      "cell_type": "markdown",
      "metadata": {
        "id": "X1H_fflex-kA"
      },
      "source": [
        "### Solution"
      ]
    },
    {
      "cell_type": "code",
      "metadata": {
        "id": "PnoTGi_cx68R"
      },
      "source": [
        "# ADD YOUR SOLUTION CODE TO TASK 2 HERE"
      ],
      "execution_count": null,
      "outputs": []
    },
    {
      "cell_type": "markdown",
      "metadata": {
        "id": "4ie0GjKix2nj"
      },
      "source": [
        "### Exposition of the solution"
      ]
    },
    {
      "cell_type": "markdown",
      "metadata": {
        "id": "bD73kkyMx0eI"
      },
      "source": [
        "## Task 3: Data preparation and filtering"
      ]
    },
    {
      "cell_type": "markdown",
      "metadata": {
        "id": "oJrijthKxzSp"
      },
      "source": [
        "### Solution"
      ]
    },
    {
      "cell_type": "code",
      "metadata": {
        "id": "HrU6ULNmxwz-"
      },
      "source": [
        "# ADD YOUR SOLUTION CODE TO TASK 3 HERE\n",
        "\n",
        "# 1) --------------------------------------\n",
        "\n",
        "# 2) --------------------------------------\n",
        "\n",
        "# 3) --------------------------------------\n",
        "\n",
        "# 4) ---------------------------------------\n"
      ],
      "execution_count": null,
      "outputs": []
    },
    {
      "cell_type": "markdown",
      "metadata": {
        "id": "MjLeqJ_9xeV1"
      },
      "source": [
        "### Exposition of the solution\n",
        "\n",
        "\n",
        "\n"
      ]
    },
    {
      "cell_type": "markdown",
      "metadata": {
        "id": "PGBtiHQmxhe-"
      },
      "source": [
        "## Task 4: Aggregation and visualization"
      ]
    },
    {
      "cell_type": "markdown",
      "metadata": {
        "id": "9GgQm_6BxoDg"
      },
      "source": [
        "### Solution"
      ]
    },
    {
      "cell_type": "code",
      "metadata": {
        "id": "2AqP2hFgxcHb"
      },
      "source": [
        "# load packages\n",
        "library(ggplot2)\n",
        "library(dplyr)\n",
        "library(maps)\n",
        "library(ggdark)\n",
        "\n",
        "# load/prepare world map data (exclude antarctica)\n",
        "world <- map_data('world') %>% \n",
        "  filter(region != \"Antarctica\") %>% \n",
        "  fortify\n",
        "\n",
        "# plot basics to build on\n",
        "ggplot(data = world, aes(x = long, y = lat)) +\n",
        "  geom_map( map = world, aes(group = group, map_id=region), size=0.1, fill=\"grey8\") +\n",
        "  dark_theme_void() +\n",
        "  theme(legend.position = \"none\")  +\n",
        "  coord_map(xlim=c(-180,180))\n",
        "\n",
        "# ADD YOUR SOLUTION CODE TO TASK 4 HERE\n"
      ],
      "execution_count": null,
      "outputs": []
    },
    {
      "cell_type": "markdown",
      "metadata": {
        "id": "YgpWrfSZxWrR"
      },
      "source": [
        "### Figure notes\n",
        "\n",
        "<ADD FIGURE NOTES HERE>"
      ]
    },
    {
      "cell_type": "markdown",
      "metadata": {
        "id": "BRfZLHF6zd-a"
      },
      "source": [
        "# END OF THE EXAM"
      ]
    }
  ]
}